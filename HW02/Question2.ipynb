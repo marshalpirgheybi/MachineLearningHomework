{
  "cells": [
    {
      "cell_type": "markdown",
      "metadata": {
        "id": "un_07izr0mCO"
      },
      "source": [
        "<h1 align=\"center\">An Introduction to Machine Learning - 25737</h1>\n",
        "<h4 align=\"center\">Dr. Sajjad Amini</h4>\n",
        "<h4 align=\"center\">Sharif University of Technology, Spring 2023</h4>\n",
        "\n",
        "**Student Name**:\n",
        "Amirmohammad Marshal pirgheybi\n",
        "**Student ID**:\n",
        "98109815\n",
        "# Effect of Overfitting\n",
        "\n",
        "In this exercise, we want to examine the effect of **overfitting**. As you learned in class, using too many features in training can result in a model with very low loss on the training set but high loss on the validation and test set. For this purpose, we have prepared a dataset in the `q2-train.npy`, `q2-valid.npy`, and `q2-test.npy` files for you. We know that `y` is a polynomial function of `x` in this dataset, meaning that \n",
        "\n",
        "$$\n",
        "y = \\sum_{i=0}^{k}a_ix^i\n",
        "$$\n",
        "\n",
        "However, we do not know the exact value of `k`."
      ]
    },
    {
      "cell_type": "markdown",
      "metadata": {
        "id": "rcSNUeqT158e"
      },
      "source": [
        "## Importing Libraries\n",
        "\n",
        "First, we import the necessary libraries for this assignment. Please note that you should only use these libraries and no other libraries are acceptable."
      ]
    },
    {
      "cell_type": "code",
      "execution_count": 2,
      "metadata": {
        "id": "UitW8b0J0jBa"
      },
      "outputs": [],
      "source": [
        "import numpy as np\n",
        "import matplotlib.pyplot as plt"
      ]
    },
    {
      "cell_type": "markdown",
      "metadata": {
        "id": "Q1x7BaU22F4k"
      },
      "source": [
        "## Reading Data and Preprocessing\n",
        "\n",
        "In this part of the assignment, you should read data from the `.npy` files. The data in `q2-train.npy` file is your training set and should be stored in the `X_train` and `Y_train` variables. Similarly, the data in `q2-valid.npy` file is your validation set, and the data in `q2-test.npy` file is your test set, which should be stored in `X_val`, `Y_val`, `X_test`, and `Y_test` respectively. You can use the `np.load` function to read the `.npy` files."
      ]
    },
    {
      "cell_type": "code",
      "execution_count": 63,
      "metadata": {
        "id": "dDMeq10G2m0U"
      },
      "outputs": [],
      "source": [
        "X_train, Y_train, X_val, Y_val, X_test, Y_test = None, None, None, None, None, None\n",
        "\n",
        "### START CODE HERE ###\n",
        "train_Data = np.load(\"q2-train.npy\")\n",
        "X_train = train_Data[:,0]\n",
        "#X_train = X_train.reshape((X_train.shape[0],1))\n",
        "Y_train = train_Data[:,1].reshape((X_train.shape[0],1))\n",
        "valid_Data = np.load(\"q2-valid.npy\")\n",
        "X_val = valid_Data[:,0]\n",
        "#X_val = X_val.reshape((X_val.shape[0],1))\n",
        "Y_val = valid_Data[:,1].reshape((X_val.shape[0],1))\n",
        "test_Data = np.load(\"q2-test.npy\")\n",
        "X_test = test_Data[:,0]\n",
        "#X_test = X_test.reshape((X_test.shape[0],1))\n",
        "Y_test = test_Data[:,1].reshape((X_test.shape[0],1))\n",
        "### END CODE HERE ###"
      ]
    },
    {
      "cell_type": "markdown",
      "metadata": {
        "id": "nyXpEfEa3Gw-"
      },
      "source": [
        "To find the best value of `k`, we want to change `k` from 1 to 12 and examine its effect on the validation set, and then choose the right value of `k`. For this purpose, we need to create a matrix with columns equal to $x^0$, $x^1$, $x^2$, ..., $x^k$ for every value of `k`. You can complete the following function to do this job. The function takes an $m \\times 1$ vector `X` containing values of input `x` and returns an $m \\times (k+1)$ matrix that has the properties mentioned above."
      ]
    },
    {
      "cell_type": "code",
      "execution_count": 47,
      "metadata": {
        "id": "DXw2tPO84Ksp"
      },
      "outputs": [],
      "source": [
        "def create_matrix(X, k):\n",
        "  '''\n",
        "  X: an m by 1 array \n",
        "  '''\n",
        "  new_X = None\n",
        "  ### START CODE HERE ###\n",
        "  m = X.shape[0]\n",
        "  new_X = np.zeros((m,k+1))\n",
        "  for i in range(k+1):\n",
        "    new_X[:,i] = (X ** i)\n",
        "  ### END CODE HERE ###\n",
        "  return new_X"
      ]
    },
    {
      "cell_type": "markdown",
      "metadata": {
        "id": "WCTuye7C5Aq3"
      },
      "source": [
        "## Validate Model\n",
        "\n",
        "Now, we want to train our model for every value of `k`. You can use any of the methods that we used in **Question 1** (gradient descent or direct calculation) for this purpose. The following function trains our model on the training set for a given value of `k`, and then returns the loss on the training set and validation set, as well as the weight vector `w`."
      ]
    },
    {
      "cell_type": "code",
      "execution_count": 48,
      "metadata": {
        "id": "9lfWITgf7yQH"
      },
      "outputs": [],
      "source": [
        "# If you need any other function for training write it here\n",
        "def loss(X, Y, w):\n",
        "  '''\n",
        "  X: an m by (n+1) matrix which includes inputs\n",
        "  Y: an m by 1 vector which includes heating loads\n",
        "  w: an (n+1) by 1 weight vector\n",
        "  '''\n",
        "  m, n = X.shape\n",
        "  loss = None\n",
        "  ### START CODE HERE ###\n",
        "  loss = 1/m*((X @ w - Y)**2).sum(axis = 0)\n",
        "  ### END CODE HERE ###\n",
        "  return loss\n",
        "def direct_method(X, Y):\n",
        "  '''\n",
        "  X: an m by (n+1) matrix which includes inputs\n",
        "  Y: an m by 1 vector which includes heating loads\n",
        "  '''\n",
        "  w = None\n",
        "  ### START CODE HERE ###\n",
        "  w = np.linalg.pinv(X.T @ X) @ X.T @ Y\n",
        "  ### END CODE HERE ###\n",
        "  return w\n",
        "# (like gradient descent or anything else)"
      ]
    },
    {
      "cell_type": "code",
      "execution_count": 55,
      "metadata": {
        "id": "JaIs631q508z"
      },
      "outputs": [],
      "source": [
        "def train(X_train, Y_train, X_val, Y_val, k):\n",
        "  '''\n",
        "  X_train: an m_train by 1 vector contains training points\n",
        "  Y_train: an m_train by 1 vector contains training values\n",
        "  X_val: an m_val by 1 vector contains validation points\n",
        "  Y_val: an m_val by 1 vector contains validation values\n",
        "  k: degree of polynomial\n",
        "  '''\n",
        "  w, loss_train, loss_val = None, None, None\n",
        "  ### START CODE HERE ###\n",
        "  X_train = create_matrix(X_train , k)\n",
        "  X_val = create_matrix(X_val , k)\n",
        "  w = direct_method(X_train,Y_train)\n",
        "  loss_train  = loss(X_train,Y_train,w)\n",
        "  loss_val = loss(X_val,Y_val,w)\n",
        "  ### END CODE HERE ###\n",
        "  return w, loss_train, loss_val"
      ]
    },
    {
      "cell_type": "markdown",
      "metadata": {
        "id": "eAsZfxCu6YEf"
      },
      "source": [
        "In the cell below, you can change the value of `k` between 1 and 12 and plot the loss on the training and validation set as a function of `k` in the same plot.\n",
        "\n",
        "**Question**: Discuss about the effect of $k$.\n",
        "\n",
        "**Answer**: As you can see, at small values of $k$ the model is underfitting and both validation and training loss is large, relatively. On the other hand, as the model degree increases to much, the training loss would decrease but the validation loss would increase which shows overfitting of the model. The best value for $k$ is according to the diagram is $k=8$.  "
      ]
    },
    {
      "cell_type": "code",
      "execution_count": 58,
      "metadata": {
        "id": "knUTXtOv66Wx",
        "colab": {
          "base_uri": "https://localhost:8080/",
          "height": 489
        },
        "outputId": "02a670f5-f472-4302-87a2-5f5b601d3211"
      },
      "outputs": [
        {
          "output_type": "execute_result",
          "data": {
            "text/plain": [
              "Text(0, 0.5, 'loss')"
            ]
          },
          "metadata": {},
          "execution_count": 58
        },
        {
          "output_type": "display_data",
          "data": {
            "text/plain": [
              "<Figure size 640x480 with 1 Axes>"
            ],
            "image/png": "[encoded data removed]"
          },
          "metadata": {}
        }
      ],
      "source": [
        "### START CODE HERE ###\n",
        "w = None\n",
        "train_loss_vec = np.zeros((12,1))\n",
        "val_loss_vec = np.zeros((12,1))\n",
        "for k in range(1,13):\n",
        "  \n",
        "  w, train_loss_vec[k-1,0], val_loss_vec[k-1,0] = train(X_train, Y_train, X_val, Y_val, k)\n",
        "iter = np.array(range(1,13))\n",
        "plt.figure()\n",
        "plt.plot(iter,train_loss_vec)\n",
        "plt.plot(iter,val_loss_vec)\n",
        "plt.grid()\n",
        "plt.title(\"The training and validation loss vs k\")\n",
        "plt.xlabel(\"k\")\n",
        "plt.ylabel(\"loss\")\n",
        "\n",
        "### END CODE HERE ###"
      ]
    },
    {
      "cell_type": "markdown",
      "metadata": {
        "id": "K0M1d2Ez7JLJ"
      },
      "source": [
        "## Evaluating Model\n",
        "\n",
        "In the cell below find the loss of your best model on the test set.\n",
        "\n",
        "**Question**: Why we need test set?\n",
        "\n",
        "**Answer**: When we want to evaluate different models and compare them by other observer and to check our results with others, we all need a test set for this. Since, the validation set is for setting the hyperparameters and the training set for the parameters itself, we need a different set for checking the generality of our result. "
      ]
    },
    {
      "cell_type": "code",
      "execution_count": 64,
      "metadata": {
        "id": "Ex1P5H0A7emE",
        "colab": {
          "base_uri": "https://localhost:8080/"
        },
        "outputId": "e4086329-5ac2-4685-9e03-c44d737c015f"
      },
      "outputs": [
        {
          "output_type": "stream",
          "name": "stdout",
          "text": [
            "The Test Loss is:\n",
            "[0.11791425]\n"
          ]
        }
      ],
      "source": [
        "### START CODE HERE ###\n",
        "k = 8\n",
        "w,_,_ = train(X_train, Y_train, X_val, Y_val, k)\n",
        "X_test = create_matrix(X_test , k)\n",
        "test_loss = loss(X_test,Y_test,w)\n",
        "print(\"The Test Loss is:\")\n",
        "print(test_loss)\n",
        "\n",
        "### END CODE HERE ###"
      ]
    }
  ],
  "metadata": {
    "colab": {
      "provenance": []
    },
    "kernelspec": {
      "display_name": "Python 3",
      "name": "python3"
    },
    "language_info": {
      "name": "python"
    }
  },
  "nbformat": 4,
  "nbformat_minor": 0
}