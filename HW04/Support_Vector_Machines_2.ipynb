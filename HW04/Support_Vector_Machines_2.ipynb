{
 "cells": [
  {
   "cell_type": "markdown",
   "metadata": {
    "id": "0_6codqFnXgi"
   },
   "source": [
    "# SVM for classification, without and with kernels\n",
    "\n",
    "In this notebook we are going to explore the use of Support Vector Machines (SVMs) for image classification. We are going to use the famous MNIST dataset, that is a dataset of handwritten digits. We get the data from mldata.org, that is a public repository for machine learning data.\n",
    "\n",
    "The dataset consists of 70,000 images of handwritten digits (i.e., 0, 1, ... 9). Each image is 28 pixels by 28 pixels and we can think of it as a vector of 28x28 = 784 numbers. Each number is an integer between 0 and 255. For each image we have the corresponding label (i.e., 0, 1, ..., 9)."
   ]
  },
  {
   "cell_type": "code",
   "execution_count": 12,
   "metadata": {
    "id": "w7owrXabnXgn"
   },
   "outputs": [],
   "source": [
    "#load the required packages\n",
    "\n",
    "%matplotlib inline  \n",
    "\n",
    "import numpy as np\n",
    "import matplotlib.pyplot as plt\n",
    "\n",
    "import sklearn\n",
    "from sklearn.datasets import fetch_openml"
   ]
  },
  {
   "cell_type": "markdown",
   "metadata": {
    "id": "f1Q2n9z_nXgr"
   },
   "source": [
    "Now let's load the dataset. 'data' contains the input, 'target' contains the label. We normalize the data by dividing each value by 255 so that each value is in [0,1]"
   ]
  },
  {
   "cell_type": "code",
   "execution_count": 13,
   "metadata": {
    "id": "Zn7ErChanXgs"
   },
   "outputs": [],
   "source": [
    "#TODO: Normalize MNIST dataset and rescale the data\n",
    "# Load the MNIST dataset and normalize the features so that each value is in the range [0,1]\n",
    "mnist = fetch_openml('mnist_784', version=1)\n",
    "# Rescale the data\n",
    "X, y = mnist.data.to_numpy() / 255., mnist.target.to_numpy()"
   ]
  },
  {
   "cell_type": "markdown",
   "metadata": {
    "id": "THXcR9T1nXgu"
   },
   "source": [
    "Now split into training and test. We keep 500 samples in the training set. Make sure that each label is present at least 10 times\n",
    "in training. If it is not, then keep adding permutations to the initial data until this \n",
    "happens.\n",
    "\n",
    "**IMPORTANT**: if you cannot run the SVM with 500 samples or 1000 samples (see below), try with a smaller number of samples (e.g. 200 here and 400 below)."
   ]
  },
  {
   "cell_type": "code",
   "execution_count": 43,
   "metadata": {
    "id": "mK2rPXy3nXgv"
   },
   "outputs": [
    {
     "name": "stdout",
     "output_type": "stream",
     "text": [
      "Labels and their frequencies in the training dataset: \n",
      "0: 90\n",
      "1: 121\n",
      "2: 91\n",
      "3: 126\n",
      "4: 97\n",
      "5: 80\n",
      "6: 97\n",
      "7: 106\n",
      "8: 80\n",
      "9: 112\n"
     ]
    }
   ],
   "source": [
    "# Randomly permute the data and split it into training and test sets, taking the first 500\n",
    "# data samples as training and the rest as test.\n",
    "permutation = np.random.permutation(X.shape[0])\n",
    "\n",
    "X = X[permutation]\n",
    "y = y[permutation]\n",
    "\n",
    "m_training = 1000\n",
    "\n",
    "X_train, X_test = X[:m_training], X[m_training:]\n",
    "y_train, y_test = y[:m_training], y[m_training:]\n",
    "\n",
    "# Print the labels and their frequencies in the training dataset.\n",
    "print(\"Labels and their frequencies in the training dataset: \")\n",
    "unique_labels, label_counts = np.unique(y_train, return_counts=True)\n",
    "for label, count in zip(unique_labels, label_counts):\n",
    "    print(f\"{label}: {count}\")"
   ]
  },
  {
   "cell_type": "markdown",
   "metadata": {
    "id": "45ksUODunXgw"
   },
   "source": [
    "We now provide a function to print an image in a dataset, the corresponding true label, and the index of the image in the dataset."
   ]
  },
  {
   "cell_type": "code",
   "execution_count": 15,
   "metadata": {
    "id": "TeXh2BpHrd-5"
   },
   "outputs": [],
   "source": [
    "def plot_digit(X_matrix, labels, index):\n",
    "\n",
    "    \"\"\"\n",
    "    Plots a digit from the X_matrix and prints the corresponding label.\n",
    "    Args:\n",
    "    X_matrix (numpy.ndarray): Matrix of digit images.\n",
    "    labels (numpy.ndarray): Array of digit labels.\n",
    "    index (int): Index of the digit to plot and print.\n",
    "    \"\"\"\n",
    "    print(\"INPUT:\")\n",
    "    plt.imshow(\n",
    "        X_matrix[index].reshape(28,28),\n",
    "        cmap          = plt.cm.gray_r,\n",
    "        interpolation = \"nearest\")\n",
    "    plt.show()\n",
    "    print(\"LABEL: %s\" % labels[index])"
   ]
  },
  {
   "cell_type": "markdown",
   "metadata": {
    "id": "JEDj_SMOnXgz"
   },
   "source": [
    "As an example, let's print the 100-th image in X_train and the 40,000-th image in X_test and their true labels."
   ]
  },
  {
   "cell_type": "code",
   "execution_count": 16,
   "metadata": {
    "id": "9USuS-ztnXg1"
   },
   "outputs": [
    {
     "name": "stdout",
     "output_type": "stream",
     "text": [
      "INPUT:\n"
     ]
    },
    {
     "data": {
      "image/png": "[encoded data removed]",
      "text/plain": [
       "<Figure size 640x480 with 1 Axes>"
      ]
     },
     "metadata": {},
     "output_type": "display_data"
    },
    {
     "name": "stdout",
     "output_type": "stream",
     "text": [
      "LABEL: 9\n",
      "INPUT:\n"
     ]
    },
    {
     "data": {
      "image/png": "[encoded data removed]",
      "text/plain": [
       "<Figure size 640x480 with 1 Axes>"
      ]
     },
     "metadata": {},
     "output_type": "display_data"
    },
    {
     "name": "stdout",
     "output_type": "stream",
     "text": [
      "LABEL: 0\n"
     ]
    }
   ],
   "source": [
    "# Plot the 100th digit in the training set\n",
    "plot_digit(X_train, y_train, 100)\n",
    "\n",
    "# Plot the 40,000th digit in the test set\n",
    "plot_digit(X_test, y_test,40000)"
   ]
  },
  {
   "cell_type": "markdown",
   "metadata": {
    "id": "dp9-uKtFnXg4"
   },
   "source": [
    "## Section 1\n",
    "Run SVM with cross validation to pick a kernel and values of parameters. Use a 5-fold cross-validation to pick the best kernel and choice of parameters. We provide some potential choice for parameters, but change the grid if needed (e.g., it takes too long). For the SVM for classification use SVC from sklearn.svm; for the grid search we suggest you use GridSearchCV from sklearn.model_selection, but you can implement your own cross-validation for model selection if you prefer.\n",
    "\n",
    "Print the best parameters used as well as the score obtained by the best model"
   ]
  },
  {
   "cell_type": "code",
   "execution_count": 44,
   "metadata": {
    "id": "49FHb1CKuSa2"
   },
   "outputs": [
    {
     "name": "stdout",
     "output_type": "stream",
     "text": [
      "RESULTS FOR LINEAR KERNEL\n",
      "\n",
      "Best parameters set found:\n",
      "{'C': 1}\n",
      "Score with best parameters:\n",
      "0.868\n",
      "\n",
      "All scores on the grid:\n",
      "{'mean_fit_time': array([0.19724851, 0.23425498, 0.23885345]), 'std_fit_time': array([0.01130601, 0.02785715, 0.01144733]), 'mean_score_time': array([0.11502428, 0.08901763, 0.03860745]), 'std_score_time': array([0.00737701, 0.04166948, 0.01960663]), 'param_C': masked_array(data=[1, 10, 100],\n",
      "             mask=[False, False, False],\n",
      "       fill_value='?',\n",
      "            dtype=object), 'params': [{'C': 1}, {'C': 10}, {'C': 100}], 'split0_test_score': array([0.865, 0.865, 0.865]), 'split1_test_score': array([0.875, 0.875, 0.875]), 'split2_test_score': array([0.86, 0.86, 0.86]), 'split3_test_score': array([0.86, 0.86, 0.86]), 'split4_test_score': array([0.88, 0.88, 0.88]), 'mean_test_score': array([0.868, 0.868, 0.868]), 'std_test_score': array([0.00812404, 0.00812404, 0.00812404]), 'rank_test_score': array([1, 1, 1])}\n",
      "\n",
      "RESULTS FOR POLY DEGREE=2 KERNEL\n",
      "\n",
      "Best parameters set found:\n",
      "{'C': 10, 'gamma': 0.01}\n",
      "Score with best parameters:\n",
      "0.9019999999999999\n",
      "\n",
      "All scores on the grid:\n",
      "{'mean_fit_time': array([0.37648821, 0.32567844, 0.33748007, 0.30166826, 0.29407039,\n",
      "       0.31747293, 0.28246474, 0.26766233, 0.28746414]), 'std_fit_time': array([0.14932202, 0.01645712, 0.04127677, 0.02670036, 0.01856458,\n",
      "       0.04610012, 0.04534597, 0.01309661, 0.0203868 ]), 'mean_score_time': array([0.13162808, 0.17603703, 0.17323585, 0.16823678, 0.16443343,\n",
      "       0.12962708, 0.10442238, 0.11162186, 0.05420852]), 'std_score_time': array([0.0627588 , 0.01710207, 0.01711793, 0.02749615, 0.00527652,\n",
      "       0.02838028, 0.01304857, 0.0062827 , 0.0299087 ]), 'param_C': masked_array(data=[1, 1, 1, 10, 10, 10, 100, 100, 100],\n",
      "             mask=[False, False, False, False, False, False, False, False,\n",
      "                   False],\n",
      "       fill_value='?',\n",
      "            dtype=object), 'param_gamma': masked_array(data=[0.01, 0.1, 1.0, 0.01, 0.1, 1.0, 0.01, 0.1, 1.0],\n",
      "             mask=[False, False, False, False, False, False, False, False,\n",
      "                   False],\n",
      "       fill_value='?',\n",
      "            dtype=object), 'params': [{'C': 1, 'gamma': 0.01}, {'C': 1, 'gamma': 0.1}, {'C': 1, 'gamma': 1.0}, {'C': 10, 'gamma': 0.01}, {'C': 10, 'gamma': 0.1}, {'C': 10, 'gamma': 1.0}, {'C': 100, 'gamma': 0.01}, {'C': 100, 'gamma': 0.1}, {'C': 100, 'gamma': 1.0}], 'split0_test_score': array([0.825, 0.885, 0.885, 0.89 , 0.885, 0.885, 0.885, 0.885, 0.885]), 'split1_test_score': array([0.885, 0.895, 0.895, 0.9  , 0.895, 0.895, 0.895, 0.895, 0.895]), 'split2_test_score': array([0.885, 0.905, 0.905, 0.915, 0.905, 0.905, 0.905, 0.905, 0.905]), 'split3_test_score': array([0.89, 0.89, 0.89, 0.9 , 0.89, 0.89, 0.89, 0.89, 0.89]), 'split4_test_score': array([0.875, 0.905, 0.905, 0.905, 0.905, 0.905, 0.905, 0.905, 0.905]), 'mean_test_score': array([0.872, 0.896, 0.896, 0.902, 0.896, 0.896, 0.896, 0.896, 0.896]), 'std_test_score': array([0.024     , 0.008     , 0.008     , 0.00812404, 0.008     ,\n",
      "       0.008     , 0.008     , 0.008     , 0.008     ]), 'rank_test_score': array([9, 2, 2, 1, 2, 2, 2, 2, 2])}\n",
      "\n",
      "RESULTS FOR RBF KERNEL\n",
      "\n",
      "Best parameters set found:\n",
      "{'C': 10, 'gamma': 0.01}\n",
      "Score with best parameters:\n",
      "0.905\n",
      "\n",
      "All scores on the grid:\n",
      "{'mean_fit_time': array([0.38789172, 0.85220823, 0.89427943, 0.4095542 , 0.88549399,\n",
      "       0.82027764, 0.4738791 , 0.58817477, 0.43949986]), 'std_fit_time': array([0.03525385, 0.05824187, 0.10407524, 0.04162085, 0.14270079,\n",
      "       0.06284362, 0.02200874, 0.12431801, 0.04729204]), 'mean_score_time': array([0.20985956, 0.29681482, 0.34564228, 0.23643904, 0.25870004,\n",
      "       0.2424542 , 0.19808612, 0.10662255, 0.10562139]), 'std_score_time': array([0.03582051, 0.02540913, 0.0505745 , 0.01840303, 0.01676451,\n",
      "       0.0295403 , 0.01985452, 0.00971012, 0.00407975]), 'param_C': masked_array(data=[1, 1, 1, 10, 10, 10, 100, 100, 100],\n",
      "             mask=[False, False, False, False, False, False, False, False,\n",
      "                   False],\n",
      "       fill_value='?',\n",
      "            dtype=object), 'param_gamma': masked_array(data=[0.01, 0.1, 1.0, 0.01, 0.1, 1.0, 0.01, 0.1, 1.0],\n",
      "             mask=[False, False, False, False, False, False, False, False,\n",
      "                   False],\n",
      "       fill_value='?',\n",
      "            dtype=object), 'params': [{'C': 1, 'gamma': 0.01}, {'C': 1, 'gamma': 0.1}, {'C': 1, 'gamma': 1.0}, {'C': 10, 'gamma': 0.01}, {'C': 10, 'gamma': 0.1}, {'C': 10, 'gamma': 1.0}, {'C': 100, 'gamma': 0.01}, {'C': 100, 'gamma': 0.1}, {'C': 100, 'gamma': 1.0}], 'split0_test_score': array([0.87 , 0.47 , 0.135, 0.89 , 0.515, 0.135, 0.89 , 0.515, 0.135]), 'split1_test_score': array([0.91 , 0.41 , 0.135, 0.905, 0.475, 0.14 , 0.905, 0.475, 0.14 ]), 'split2_test_score': array([0.9  , 0.415, 0.145, 0.93 , 0.455, 0.145, 0.93 , 0.455, 0.145]), 'split3_test_score': array([0.9  , 0.49 , 0.125, 0.9  , 0.56 , 0.13 , 0.9  , 0.56 , 0.13 ]), 'split4_test_score': array([0.89 , 0.495, 0.13 , 0.9  , 0.545, 0.135, 0.9  , 0.545, 0.135]), 'mean_test_score': array([0.894, 0.456, 0.134, 0.905, 0.51 , 0.137, 0.905, 0.51 , 0.137]), 'std_test_score': array([0.01356466, 0.03652396, 0.00663325, 0.01341641, 0.04      ,\n",
      "       0.00509902, 0.01341641, 0.04      , 0.00509902]), 'rank_test_score': array([3, 6, 9, 1, 4, 7, 1, 4, 7])}\n"
     ]
    }
   ],
   "source": [
    "# Import the Support Vector Classifier (SVC) and GridSearchCV modules\n",
    "from sklearn.svm import SVC\n",
    "from sklearn.model_selection import GridSearchCV\n",
    "\n",
    "# Set the parameters for the linear SVM\n",
    "parameters = {'C': [1, 10, 100]}\n",
    "\n",
    "# Create a linear SVM object\n",
    "linear_SVM = SVC(kernel='linear')\n",
    "\n",
    "# TO DO: Find the best model using 5-fold cross-validation and train it using all the training data\n",
    "gd_sr = GridSearchCV(estimator=linear_SVM,\n",
    "                     param_grid=parameters,\n",
    "                     scoring='accuracy',\n",
    "                     cv=5,\n",
    "                     n_jobs=-1)\n",
    "gd_sr.fit(X_train, y_train)\n",
    "# Print the results for the linear kernel\n",
    "print('RESULTS FOR LINEAR KERNEL\\n')\n",
    "\n",
    "print(\"Best parameters set found:\")\n",
    "# TO DO\n",
    "best_parameters = gd_sr.best_params_\n",
    "print(best_parameters)\n",
    "print(\"Score with best parameters:\")\n",
    "# TO DO\n",
    "best_result = gd_sr.best_score_\n",
    "print(best_result)\n",
    "print(\"\\nAll scores on the grid:\")\n",
    "# TO DO\n",
    "cv_result = gd_sr.cv_results_\n",
    "print(cv_result)\n",
    "# Set the parameters for the polynomial kernel with degree 2\n",
    "parameters = {'C': [1, 10, 100], 'gamma': [0.01, 0.1, 1.]}\n",
    "# Create a polynomial kernel with degree 2 SVM object\n",
    "poly2_SVM = SVC(kernel='poly', degree=2)\n",
    "\n",
    "# TO DO: Find the best model using 5-fold cross-validation and train it using all the training data\n",
    "gd_sr = GridSearchCV(estimator=poly2_SVM,\n",
    "                     param_grid=parameters,\n",
    "                     scoring='accuracy',\n",
    "                     cv=5,\n",
    "                     n_jobs=-1)\n",
    "gd_sr.fit(X_train, y_train)\n",
    "# Print the results for the polynomial kernel with degree 2\n",
    "print('\\nRESULTS FOR POLY DEGREE=2 KERNEL\\n')\n",
    "\n",
    "print(\"Best parameters set found:\")\n",
    "# TO DO\n",
    "best_parameters = gd_sr.best_params_\n",
    "print(best_parameters)\n",
    "print(\"Score with best parameters:\")\n",
    "# TO DO\n",
    "best_result = gd_sr.best_score_\n",
    "print(best_result)\n",
    "print(\"\\nAll scores on the grid:\")\n",
    "# TO DO\n",
    "cv_result = gd_sr.cv_results_\n",
    "print(cv_result)\n",
    "# Set the parameters for the RBF kernel\n",
    "parameters = {'C': [1, 10, 100], 'gamma': [0.01, 0.1, 1.]}\n",
    "\n",
    "# Create an RBF kernel SVM object\n",
    "rbf_SVM = SVC(kernel='rbf')\n",
    "\n",
    "# TO DO: Find the best model using 5-fold cross-validation and train it using all the training data\n",
    "gd_sr = GridSearchCV(estimator=rbf_SVM,\n",
    "                     param_grid=parameters,\n",
    "                     scoring='accuracy',\n",
    "                     cv=5,\n",
    "                     n_jobs=-1)\n",
    "gd_sr.fit(X_train, y_train)\n",
    "# Print the results for the RBF kernel\n",
    "print('\\nRESULTS FOR RBF KERNEL\\n')\n",
    "\n",
    "print(\"Best parameters set found:\")\n",
    "# TO DO\n",
    "best_parameters = gd_sr.best_params_\n",
    "print(best_parameters)\n",
    "print(\"Score with best parameters:\")\n",
    "# TO DO\n",
    "best_result = gd_sr.best_score_\n",
    "print(best_result)\n",
    "print(\"\\nAll scores on the grid:\")\n",
    "# TO DO\n",
    "cv_result = gd_sr.cv_results_\n",
    "print(cv_result)\n"
   ]
  },
  {
   "cell_type": "markdown",
   "metadata": {
    "id": "sECvVFNvnXg6"
   },
   "source": [
    "## Section 2\n",
    "For the \"best\" SVM kernel and choice of parameters from above, train the model on the entire training set and measure the training error. Also make predictions on the test set and measure the test error. Print the training and the test error."
   ]
  },
  {
   "cell_type": "code",
   "execution_count": 45,
   "metadata": {
    "id": "sk0mqc0QnXg6"
   },
   "outputs": [
    {
     "name": "stdout",
     "output_type": "stream",
     "text": [
      "Best SVM training error: 0.000000\n",
      "Best SVM test error: 0.077623\n"
     ]
    }
   ],
   "source": [
    "# Get the best SVM model from cross-validation\n",
    "best_SVM = SVC(kernel='rbf',C=10,gamma=0.01)# TO DO\n",
    "\n",
    "# Fit the model on the entire training set\n",
    "best_SVM.fit(X_train, y_train)\n",
    "\n",
    "# Get the training and test error\n",
    "training_error = 1. - best_SVM.score(X_train, y_train)\n",
    "test_error = 1. - best_SVM.score(X_test, y_test)\n",
    "\n",
    "# Print the training and test error for the best SVM model\n",
    "print(\"Best SVM training error: %f\" % training_error)\n",
    "print(\"Best SVM test error: %f\" % test_error)\n"
   ]
  },
  {
   "cell_type": "markdown",
   "metadata": {
    "id": "-nMoD65fnXg6"
   },
   "source": [
    "## Use logistic regression for comparison\n",
    "\n",
    "## Section 3\n",
    "\n",
    "Just for comparison let's also use logistic regression, first with the default values of the parameter for regularization and then with cross-validation to fix the value of the parameter. For cross validation, use 5-fold cross validation and the default values of the regularization parameters for the function linear_model.LogisticRegressionCV(...)"
   ]
  },
  {
   "cell_type": "code",
   "execution_count": 46,
   "metadata": {
    "id": "lHBdJ76QtwDB"
   },
   "outputs": [
    {
     "name": "stderr",
     "output_type": "stream",
     "text": [
      "C:\\Users\\tarahan\\anaconda3\\envs\\pytorchenv\\lib\\site-packages\\sklearn\\linear_model\\_logistic.py:818: ConvergenceWarning: lbfgs failed to converge (status=1):\n",
      "STOP: TOTAL NO. of ITERATIONS REACHED LIMIT.\n",
      "\n",
      "Increase the number of iterations (max_iter) or scale the data as shown in:\n",
      "    https://scikit-learn.org/stable/modules/preprocessing.html\n",
      "Please also refer to the documentation for alternative solver options:\n",
      "    https://scikit-learn.org/stable/modules/linear_model.html#logistic-regression\n",
      "  extra_warning_msg=_LOGISTIC_SOLVER_CONVERGENCE_MSG,\n"
     ]
    },
    {
     "name": "stdout",
     "output_type": "stream",
     "text": [
      "Best logistic regression training error: 0.000000\n",
      "Best logistic regression test error: 0.131319\n"
     ]
    },
    {
     "name": "stderr",
     "output_type": "stream",
     "text": [
      "C:\\Users\\tarahan\\anaconda3\\envs\\pytorchenv\\lib\\site-packages\\sklearn\\linear_model\\_logistic.py:818: ConvergenceWarning: lbfgs failed to converge (status=1):\n",
      "STOP: TOTAL NO. of ITERATIONS REACHED LIMIT.\n",
      "\n",
      "Increase the number of iterations (max_iter) or scale the data as shown in:\n",
      "    https://scikit-learn.org/stable/modules/preprocessing.html\n",
      "Please also refer to the documentation for alternative solver options:\n",
      "    https://scikit-learn.org/stable/modules/linear_model.html#logistic-regression\n",
      "  extra_warning_msg=_LOGISTIC_SOLVER_CONVERGENCE_MSG,\n",
      "C:\\Users\\tarahan\\anaconda3\\envs\\pytorchenv\\lib\\site-packages\\sklearn\\linear_model\\_logistic.py:818: ConvergenceWarning: lbfgs failed to converge (status=1):\n",
      "STOP: TOTAL NO. of ITERATIONS REACHED LIMIT.\n",
      "\n",
      "Increase the number of iterations (max_iter) or scale the data as shown in:\n",
      "    https://scikit-learn.org/stable/modules/preprocessing.html\n",
      "Please also refer to the documentation for alternative solver options:\n",
      "    https://scikit-learn.org/stable/modules/linear_model.html#logistic-regression\n",
      "  extra_warning_msg=_LOGISTIC_SOLVER_CONVERGENCE_MSG,\n",
      "C:\\Users\\tarahan\\anaconda3\\envs\\pytorchenv\\lib\\site-packages\\sklearn\\linear_model\\_logistic.py:818: ConvergenceWarning: lbfgs failed to converge (status=1):\n",
      "STOP: TOTAL NO. of ITERATIONS REACHED LIMIT.\n",
      "\n",
      "Increase the number of iterations (max_iter) or scale the data as shown in:\n",
      "    https://scikit-learn.org/stable/modules/preprocessing.html\n",
      "Please also refer to the documentation for alternative solver options:\n",
      "    https://scikit-learn.org/stable/modules/linear_model.html#logistic-regression\n",
      "  extra_warning_msg=_LOGISTIC_SOLVER_CONVERGENCE_MSG,\n",
      "C:\\Users\\tarahan\\anaconda3\\envs\\pytorchenv\\lib\\site-packages\\sklearn\\linear_model\\_logistic.py:818: ConvergenceWarning: lbfgs failed to converge (status=1):\n",
      "STOP: TOTAL NO. of ITERATIONS REACHED LIMIT.\n",
      "\n",
      "Increase the number of iterations (max_iter) or scale the data as shown in:\n",
      "    https://scikit-learn.org/stable/modules/preprocessing.html\n",
      "Please also refer to the documentation for alternative solver options:\n",
      "    https://scikit-learn.org/stable/modules/linear_model.html#logistic-regression\n",
      "  extra_warning_msg=_LOGISTIC_SOLVER_CONVERGENCE_MSG,\n",
      "C:\\Users\\tarahan\\anaconda3\\envs\\pytorchenv\\lib\\site-packages\\sklearn\\linear_model\\_logistic.py:818: ConvergenceWarning: lbfgs failed to converge (status=1):\n",
      "STOP: TOTAL NO. of ITERATIONS REACHED LIMIT.\n",
      "\n",
      "Increase the number of iterations (max_iter) or scale the data as shown in:\n",
      "    https://scikit-learn.org/stable/modules/preprocessing.html\n",
      "Please also refer to the documentation for alternative solver options:\n",
      "    https://scikit-learn.org/stable/modules/linear_model.html#logistic-regression\n",
      "  extra_warning_msg=_LOGISTIC_SOLVER_CONVERGENCE_MSG,\n",
      "C:\\Users\\tarahan\\anaconda3\\envs\\pytorchenv\\lib\\site-packages\\sklearn\\linear_model\\_logistic.py:818: ConvergenceWarning: lbfgs failed to converge (status=1):\n",
      "STOP: TOTAL NO. of ITERATIONS REACHED LIMIT.\n",
      "\n",
      "Increase the number of iterations (max_iter) or scale the data as shown in:\n",
      "    https://scikit-learn.org/stable/modules/preprocessing.html\n",
      "Please also refer to the documentation for alternative solver options:\n",
      "    https://scikit-learn.org/stable/modules/linear_model.html#logistic-regression\n",
      "  extra_warning_msg=_LOGISTIC_SOLVER_CONVERGENCE_MSG,\n"
     ]
    },
    {
     "name": "stdout",
     "output_type": "stream",
     "text": [
      "Best logistic regression training error: 0.005000\n",
      "Best logistic regression test error: 0.128290\n"
     ]
    }
   ],
   "source": [
    "from sklearn import linear_model\n",
    "\n",
    "# Create a logistic regression object\n",
    "lr = linear_model.LogisticRegression()\n",
    "\n",
    "# TODO: Fit the model on the training data\n",
    "# ADD CODE\n",
    "lr = lr.fit(X_train,y_train)\n",
    "# Compute the training and test error for the logistic regression model\n",
    "training_error = 1-lr.score(X_train,y_train)# TODO\n",
    "test_error = 1-lr.score(X_test,y_test)# TODO\n",
    "\n",
    "print(\"Best logistic regression training error: %f\" % training_error)\n",
    "print(\"Best logistic regression test error: %f\" % test_error)\n",
    "\n",
    "# Use logistic regression with 5-fold cross-validation\n",
    "# You can use linear_model.LogisticRegressionCV\n",
    "# Use 5-fold cross-validation to find the best choice of the parameter, then train\n",
    "# the model on the entire training set\n",
    "\n",
    "lr_cv = linear_model.LogisticRegressionCV(cv=5,random_state=0).fit(X_train,y_train)# TODO\n",
    "training_error_cv = 1-lr_cv.score(X_train,y_train)# TODO\n",
    "test_error_cv = 1-lr_cv.score(X_test,y_test)# TODO\n",
    "\n",
    "print(\"Best logistic regression training error: %f\" % training_error_cv)\n",
    "print(\"Best logistic regression test error: %f\" % test_error_cv)\n"
   ]
  },
  {
   "cell_type": "markdown",
   "metadata": {
    "id": "D1zBeUFYnXg8"
   },
   "source": [
    "## Section 4 \n",
    "Compare and comment the results from SVM and logistic regression.\n",
    "Answer: As you can see, the result of SVM is much better than the best logistic regression model that we have developed and that's because of the complexity of this model."
   ]
  },
  {
   "cell_type": "markdown",
   "metadata": {
    "id": "tjEGnvoynXg8"
   },
   "source": [
    "## Section 5\n",
    "Write the code that finds and plots a digit that is missclassified by logistic regression (optimized for the regularization parameter) and correctly classified by the \"best\" SVM."
   ]
  },
  {
   "cell_type": "code",
   "execution_count": 42,
   "metadata": {
    "id": "md8_fNFxnXg8"
   },
   "outputs": [
    {
     "name": "stdout",
     "output_type": "stream",
     "text": [
      "Label from LR would be:  ['8']\n",
      "Label from SVM would be:  ['5']\n",
      "INPUT:\n"
     ]
    },
    {
     "data": {
      "image/png": "[encoded data removed]",
      "text/plain": [
       "<Figure size 640x480 with 1 Axes>"
      ]
     },
     "metadata": {},
     "output_type": "display_data"
    },
    {
     "name": "stdout",
     "output_type": "stream",
     "text": [
      "LABEL: 5\n"
     ]
    }
   ],
   "source": [
    "# ADD CODE  \n",
    "for i in range(len(X_test)):\n",
    "    if(lr_cv.predict(X_test[i,:].reshape([1,784])) != y_test[i]):\n",
    "        if(best_SVM.predict(X_test[i,].reshape([1,784])) == y_test[i]):\n",
    "            print(\"Label from LR would be: \",lr_cv.predict(X_test[i,:].reshape([1,784])))\n",
    "            print(\"Label from SVM would be: \",best_SVM.predict(X_test[i,:].reshape([1,784])))\n",
    "            plot_digit(X_test, y_test,i)\n",
    "            break"
   ]
  },
  {
   "cell_type": "markdown",
   "metadata": {
    "id": "xrWB8rZvnXg9"
   },
   "source": [
    "## More data\n",
    "Now let's do the same but using 1000 data points for training. \n",
    "\n",
    "## Section 6\n",
    "Repeat the entire analysis above using 1000 samples. Of course you can copy the code from above."
   ]
  },
  {
   "cell_type": "markdown",
   "metadata": {
    "id": "0gkWCjdVnXg9"
   },
   "source": [
    "## Section 7\n",
    "Compare and comment on the differences with the results above."
   ]
  }
 ],
 "metadata": {
  "colab": {
   "provenance": []
  },
  "kernelspec": {
   "display_name": "Python 3 (ipykernel)",
   "language": "python",
   "name": "python3"
  },
  "language_info": {
   "codemirror_mode": {
    "name": "ipython",
    "version": 3
   },
   "file_extension": ".py",
   "mimetype": "text/x-python",
   "name": "python",
   "nbconvert_exporter": "python",
   "pygments_lexer": "ipython3",
   "version": "3.7.3"
  }
 },
 "nbformat": 4,
 "nbformat_minor": 1
}
